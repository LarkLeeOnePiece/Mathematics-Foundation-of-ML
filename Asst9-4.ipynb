{
 "cells": [
  {
   "cell_type": "code",
   "execution_count": 1,
   "metadata": {},
   "outputs": [],
   "source": [
    "import torch\n",
    "import torch.nn.functional as F\n",
    "import torch.optim as optim\n",
    "import torch\n",
    "import torchtext\n",
    "import torch.nn as nn\n",
    "from torchtext.datasets import IMDB\n",
    "from torchtext.data.utils import get_tokenizer\n",
    "from torch.utils.data import  TensorDataset, DataLoader\n",
    "from collections import Counter\n",
    "from torchinfo import summary\n",
    "from sklearn.metrics import confusion_matrix\n",
    "\n",
    "# download or read from cache IMDb data\n",
    "train_data = list(IMDB(split='train'))\n",
    "test_data = list(IMDB(split='test'))\n",
    "\n",
    "# download or read from cache word embeddings\n",
    "vectors = torchtext.vocab.GloVe(name='6B', dim=50, max_vectors=100_000)\n",
    "\n",
    "# build the vocabulary---all words in training data\n",
    "tokenizer = get_tokenizer('basic_english')\n",
    "counter = Counter()\n",
    "for (label, line) in train_data:\n",
    "    counter.update(tokenizer(line))\n",
    "counter = dict(counter.most_common())    \n",
    "vocab = torchtext.vocab.vocab(counter, min_freq=10, specials=('<PAD>', '<unk>'))\n",
    "vocab.set_default_index(vocab['<unk>'])# if encounter a word that it didn't know, set as '<unk>'\n",
    "\n",
    "# takes in a review (string), returns a vector of indices (maxlength T)\n",
    "def text_transform(x, T=256):\n",
    "    indices = [vocab[token] for token in tokenizer(x)]\n",
    "    return indices[:256] if len(indices) > T else indices + [0] * (T-len(indices)) # if the length of review over 256, take the first 256 words, else padding with '<PAD>' unless it reach to 256\n",
    "\n",
    "# takes in the sentiment, returns 1/0 labels (1 for positive review)\n",
    "def label_transform(x):\n",
    "    return 1 if x == 2 else 0\n",
    "\n",
    "# returns X, y tensors from training data\n",
    "def create_tensors(train_data):\n",
    "    label_list, text_list = [], []\n",
    "    for idx, (label, text) in enumerate(train_data):\n",
    "        label_list.append(label_transform(label))\n",
    "        processed_text = torch.tensor(text_transform(text))\n",
    "        text_list.append(processed_text)\n",
    "    return torch.stack(text_list), torch.tensor(label_list)\n",
    "def build_embedding(vocab, vectors):\n",
    "    # loop over all vocab indices, for each get token, get embedding (from token), add it to list\n",
    "    itos = vocab.get_itos()    # List mapping indices to tokens.\n",
    "    embed_list = [vectors[tok] for tok in itos]\n",
    "    return torch.stack(embed_list)\n",
    "\n"
   ]
  },
  {
   "cell_type": "code",
   "execution_count": 2,
   "metadata": {},
   "outputs": [
    {
     "name": "stdout",
     "output_type": "stream",
     "text": [
      "Vocabulary size:  20437\n"
     ]
    }
   ],
   "source": [
    "# Create data loaders\n",
    "X, y = create_tensors(train_data)\n",
    "Test_X, Test_y = create_tensors(test_data)\n",
    "train_dataset  = TensorDataset(X, y)\n",
    "train_loader  = DataLoader(train_dataset, batch_size=512, shuffle=True)\n",
    "test_dataset = TensorDataset(Test_X, Test_y)\n",
    "test_loader = DataLoader(test_dataset, batch_size=len(test_dataset), shuffle=False)\n",
    "print(\"Vocabulary size: \", len(vocab))\n"
   ]
  },
  {
   "cell_type": "code",
   "execution_count": 5,
   "metadata": {},
   "outputs": [],
   "source": [
    "# Define the model\n",
    "class SentimentAnalysisModel(nn.Module):\n",
    "    def __init__(self, vocab_size, embedding_dim, hidden_dim):\n",
    "        super(SentimentAnalysisModel, self).__init__()\n",
    "        self.embedding = nn.Embedding(vocab_size, embedding_dim)\n",
    "        self.rnn = nn.RNN(embedding_dim, hidden_dim, batch_first=True)\n",
    "        self.fc = nn.Linear(hidden_dim, 1)  # 2 classes: positive and negative\n",
    "        self.sigmoid = nn.Sigmoid()\n",
    "    def forward(self, x):\n",
    "        rdim = 0 if x.ndim == 1 else 1   # if x is a batch, reduction is along dim 1\n",
    "        x = self.embedding(x)\n",
    "        x = torch.mean(x, dim=rdim)      # average the embeddings\n",
    "        #print(\"x.shape=\",x.shape)\n",
    "        rnn_out, _ = self.rnn(x)\n",
    "        output = self.fc(rnn_out)\n",
    "        output=self.sigmoid(output)\n",
    "        return output\n",
    "# Hyperparameters\n",
    "embedding_dim = 100\n",
    "hidden_dim = 256\n",
    "batch_size = 64\n",
    "# Create the model\n",
    "model = SentimentAnalysisModel(len(vocab), embedding_dim, hidden_dim)"
   ]
  },
  {
   "cell_type": "code",
   "execution_count": 6,
   "metadata": {},
   "outputs": [
    {
     "name": "stdout",
     "output_type": "stream",
     "text": [
      "Epoch [1/20], Loss: 0.6513\n",
      "Epoch [2/20], Loss: 0.5733\n",
      "Epoch [3/20], Loss: 0.4752\n",
      "Epoch [4/20], Loss: 0.3919\n",
      "Epoch [5/20], Loss: 0.3440\n",
      "Epoch [6/20], Loss: 0.2874\n",
      "Epoch [7/20], Loss: 0.2581\n",
      "Epoch [8/20], Loss: 0.2098\n",
      "Epoch [9/20], Loss: 0.1960\n",
      "Epoch [10/20], Loss: 0.1963\n",
      "Epoch [11/20], Loss: 0.1549\n",
      "Epoch [12/20], Loss: 0.1555\n",
      "Epoch [13/20], Loss: 0.1970\n",
      "Epoch [14/20], Loss: 0.1306\n",
      "Epoch [15/20], Loss: 0.1093\n",
      "Epoch [16/20], Loss: 0.1272\n",
      "Epoch [17/20], Loss: 0.1427\n",
      "Epoch [18/20], Loss: 0.1140\n",
      "Epoch [19/20], Loss: 0.0739\n",
      "Epoch [20/20], Loss: 0.0494\n"
     ]
    }
   ],
   "source": [
    "learning_rate = 0.001\n",
    "# Loss function and optimizer\n",
    "criterion = nn.BCELoss()\n",
    "optimizer = optim.Adam(model.parameters(), lr=learning_rate)\n",
    "# Training loop\n",
    "num_epochs = 20\n",
    "train_losses = []\n",
    "for epoch in range(num_epochs):\n",
    "    for data in train_loader:\n",
    "        text, labels = data\n",
    "        optimizer.zero_grad()\n",
    "        outputs = model(text)\n",
    "        outputs=outputs.view(-1)\n",
    "        #print(\"outputs=\",outputs.shape)\n",
    "        #print(\"labels=\",labels.shape)\n",
    "        loss = criterion(outputs.float(), labels.float())\n",
    "        loss.backward()\n",
    "        optimizer.step()\n",
    "    print(f'Epoch [{epoch + 1}/{num_epochs}], Loss: {loss.item():.4f}')\n",
    "    train_losses.append(loss.item())\n",
    "\n"
   ]
  },
  {
   "cell_type": "code",
   "execution_count": 7,
   "metadata": {},
   "outputs": [
    {
     "name": "stdout",
     "output_type": "stream",
     "text": [
      "Accuracy on test data: 54.95%\n"
     ]
    },
    {
     "data": {
      "image/png": "[encoded data removed]",
      "text/plain": [
       "<Figure size 640x480 with 1 Axes>"
      ]
     },
     "metadata": {},
     "output_type": "display_data"
    }
   ],
   "source": [
    "import matplotlib.pyplot as plt\n",
    "def plotLossHistory(train_losses):\n",
    "    plt.figure()\n",
    "    plt.plot(range(len(train_losses)), train_losses, label='Training Loss History')\n",
    "    plt.xlabel('Epochs')\n",
    "    plt.ylabel('loss')\n",
    "    plt.legend()\n",
    "plotLossHistory(train_losses)\n",
    "# Evaluate the model\n",
    "correct = 0\n",
    "total = 0\n",
    "with torch.no_grad():\n",
    "    for batch in test_loader:\n",
    "        text, labels = data\n",
    "        outputs = model(text)\n",
    "        _, predicted = torch.max(outputs, 1)\n",
    "        total += labels.size(0)\n",
    "        correct += (predicted == labels).sum().item()\n",
    "\n",
    "accuracy = 100 * correct / total\n",
    "print(f'Accuracy on test data: {accuracy:.2f}%')"
   ]
  },
  {
   "cell_type": "code",
   "execution_count": null,
   "metadata": {},
   "outputs": [],
   "source": []
  }
 ],
 "metadata": {
  "kernelspec": {
   "display_name": "Python 3",
   "language": "python",
   "name": "python3"
  },
  "language_info": {
   "codemirror_mode": {
    "name": "ipython",
    "version": 3
   },
   "file_extension": ".py",
   "mimetype": "text/x-python",
   "name": "python",
   "nbconvert_exporter": "python",
   "pygments_lexer": "ipython3",
   "version": "3.11.5"
  }
 },
 "nbformat": 4,
 "nbformat_minor": 2
}
